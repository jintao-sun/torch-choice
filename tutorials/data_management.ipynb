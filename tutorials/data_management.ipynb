{
 "cells": [
  {
   "cell_type": "markdown",
   "metadata": {},
   "source": [
    "# Tutorial: Data Management\n",
    "**Author: Tianyu Du (tianyudu@stanford.edu)**\n",
    "\n",
    "**Note**: please go through the introduction tutorial [here](https://gsbdbi.github.io/torch-choice/intro/) before proceeding.\n",
    "\n",
    "This notebook aims to help users understand the functionality of `ChoiceDataset` object.\n",
    "The `ChoiceDataset` is an instance of the more general PyTorch dataset object holding information of consumer choices. The `ChoiceDataset` offers easy, clean and efficient data management. The Jupyter-notebook version of this tutorial can be found [here](https://github.com/gsbDBI/torch-choice/blob/main/tutorials/data_management.ipynb).\n",
    "\n",
    "This tutorial provides in-depth explanations on how the `torch-choice` library manages data. We are also providing an easy-to-use data wrapper converting long-format dataset to `ChoiceDataset` [here](https://gsbdbi.github.io/torch-choice/easy_data_management/), you can harness the `torch-choice` library without going through this tutorial. \n",
    "\n",
    "**Note**: since this package was initially proposed for modelling consumer choices, attribute names of `ChoiceDataset` are borrowed from the consumer choice literature.\n",
    "\n",
    "**Note**: PyTorch uses the term **tensor** to denote high dimensional matrices, we will be using **tensor** and **matrix** interchangeably."
   ]
  },
  {
   "cell_type": "markdown",
   "metadata": {},
   "source": [
    "After walking through this tutorial, you should be abel to initiate a `ChoiceDataset` object as the following and use it to manage data.\n",
    "```python\n",
    "dataset = ChoiceDataset(\n",
    "    # pre-specified keywords of __init__\n",
    "    item_index=item_index,  # required.\n",
    "    # optional:\n",
    "    user_index=user_index,\n",
    "    session_index=session_index,\n",
    "    item_availability=item_availability,\n",
    "    # additional keywords of __init__\n",
    "    user_obs=user_obs,\n",
    "    item_obs=item_obs,\n",
    "    session_obs=session_obs,\n",
    "    price_obs=price_obs)\n",
    "```"
   ]
  },
  {
   "cell_type": "markdown",
   "metadata": {},
   "source": [
    "### Observables\n",
    "Observables are tensors with specific shapes, we classify observables into four categories based on their variations.\n",
    "\n",
    "#### Basic Usage\n",
    "Optionally, the researcher can incorporate observables of, for example, users and items. Currently, the package support the following types of observables, where $K_{...}$ denote the number of observables.\n",
    "\n",
    "1. `user_obs` $\\in \\mathbb{R}^{U\\times K_{user}}$: user observables such as user age.\n",
    "2. `item_obs` $\\in \\mathbb{R}^{I\\times K_{item}}$: item observables such as item quality.\n",
    "3. `session_obs` $\\in \\mathbb{R}^{S \\times K_{session}}$: session observable such as whether the purchase was made on weekdays.\n",
    "4. `price_obs` $\\in \\mathbb{R}^{S \\times I \\times K_{price}}$, price observables are values depending on **both** session and item such as the price of item.\n",
    "\n",
    "The researcher should supply them with as appropriate keyword arguments while constructing the `ChoiceDataset` object."
   ]
  },
  {
   "cell_type": "markdown",
   "metadata": {},
   "source": [
    "#### (Optional) Advanced Usage: Additional Observables\n",
    "In some cases, the researcher have multiple sets of user (or item, or session, or price) observables, say *user income* (a scalar variable) and *user market membership*. The *user income* a matrix in $\\mathbb{R}^{U\\times 1}$. Further, suppose there are four types of market membership: no-membership, silver-membership, gold-membership, and diamond-membership. The *user market membership* is a binary matrix in $\\{0, 1\\}^{U\\times 4}$ if we one-hot encode users' membership status.\n",
    "\n",
    "In this case, the researcher can either\n",
    "1. concatenate `user_income` and `user_market_membership` to a $\\mathbb{R}^{U\\times (1+4)}$ matrix and supply it as a single `user_obs` as the following:\n",
    "```python\n",
    "dataset = ChoiceDataset(..., user_obs=torch.cat([user_income, user_market_membership], dim=1), ...)\n",
    "```\n",
    "2. Or, supply these two sets of observables separately, namely a `user_income` $\\in \\mathbb{R}^{U \\times 1}$ matrix and a `user_market_membership` $\\in \\mathbb{R}^{U \\times 4}$ matrix as the following:\n",
    "```python\n",
    "dataset = ChoiceDataset(..., user_income=user_income, user_market_membership=user_market_membership, ...)\n",
    "```\n",
    "\n",
    "Supplying two separate sets of observables is particularly useful when the researcher wants different kinds of coefficients for different kinds of observables.\n",
    "\n",
    "For example, the researcher wishes to model the utility for user $u$ to purchase item $i$ in session $s$ as the following:\n",
    "\n",
    "$$\n",
    "U_{usi} = \\beta_{i} X^{(u)}_{user\\ income} + \\gamma X^{(u)}_{user\\ market\\ membership} + \\varepsilon\n",
    "$$\n",
    "\n",
    "Please note that the $\\beta_i$ coefficient has an $i$ subscript, which means it's item specific. The $\\gamma$ coefficient has no subscript, which means it's the same for all items.\n",
    "\n",
    "The coefficient for user income is item-specific so that it captures the nature of the product (i.e., a luxury or an essential good). Additionally, the utility representation admits an user market membership becomes shoppers with active memberships tend to purchase more, and the coefficient of this term is constant across all items.\n",
    "\n",
    "As we will cover later in the modelling section, we need to supply two user observable tensors in this case for the model to build coefficient with different levels of variations (i.e., item-specific coefficients versus constant coefficients). In this case, the researcher needs to supply two tensors `user_income` and `user_market_membership` as keyword arguments to the `ChoiceDataset` constructor.\n",
    "\n",
    "Generally, the `ChoiceDataset` handles multiple user/item/session/price observables internally, the `ChoiceDataset` class identifies the variation of observables by their prefixes. For example, every keyword arguments passed into `ChoiceDataset` with name starting with `item_` (except for the reserved `item_availability`) will be treated as item observable tensors.\n",
    "Similarly, all keywords with names starting `user_`, `session_` and `price_` (except for reserved names like `user_index` and `session_index` mentioned above) will be interpreted as user/session/price observable tensors."
   ]
  },
  {
   "cell_type": "code",
   "execution_count": 2,
   "metadata": {},
   "outputs": [],
   "source": [
    "# import required dependencies.\n",
    "import numpy as np\n",
    "import pandas as pd\n",
    "import torch\n",
    "from torch_choice.data import ChoiceDataset, JointDataset"
   ]
  },
  {
   "cell_type": "code",
   "execution_count": 3,
   "metadata": {},
   "outputs": [],
   "source": [
    "# let's get a helper\n",
    "def print_dict_shape(d):\n",
    "    for key, val in d.items():\n",
    "        if torch.is_tensor(val):\n",
    "            print(f'dict.{key}.shape={val.shape}')"
   ]
  },
  {
   "cell_type": "markdown",
   "metadata": {},
   "source": [
    "## Creating  `ChoiceDataset` Object"
   ]
  },
  {
   "cell_type": "code",
   "execution_count": 4,
   "metadata": {},
   "outputs": [],
   "source": [
    "# Feel free to modify it as you want.\n",
    "num_users = 10\n",
    "num_items = 4\n",
    "num_sessions = 500\n",
    "\n",
    "length_of_dataset = 10000"
   ]
  },
  {
   "cell_type": "markdown",
   "metadata": {},
   "source": [
    "### Step 1: Generate some random purchase records and observables\n",
    "We will be creating a randomly generated dataset with 10000 purchase records from 10 users, 4 items and 500 sessions.\n",
    "\n",
    "We use the term **purchase record** to denote the observation in the dataset due to the convention in Stata documentation (because *observation* meant something else in the Stata documentation and we don't want to confuse existing Stata users).\n",
    "\n",
    "As mentioned in the introduction tutorial, one purchase record consists of *who* (i.e., user) bought *what* (i.e., item) *when* and *where* (i.e., session). \n",
    "\n",
    "The length of the dataset equals the number of purchase records in it.\n",
    "\n",
    "The first step is to randomly generate the purchase records using the following code. For simplicity, we assume all items are available in all sessions."
   ]
  },
  {
   "cell_type": "code",
   "execution_count": 5,
   "metadata": {},
   "outputs": [],
   "source": [
    "# create observables/features, the number of parameters are arbitrarily chosen.\n",
    "# generate 128 features for each user, e.g., race, gender.\n",
    "user_obs = torch.randn(num_users, 128)\n",
    "# generate 64 features for each user, e.g., quality.\n",
    "item_obs = torch.randn(num_items, 64)\n",
    "# generate 10 features for each session, e.g., weekday indicator. \n",
    "session_obs = torch.randn(num_sessions, 10)\n",
    "# generate 12 features for each session user pair, e.g., the budget of that user at the shopping day.\n",
    "price_obs = torch.randn(num_sessions, num_items, 12)"
   ]
  },
  {
   "cell_type": "markdown",
   "metadata": {},
   "source": [
    "We then generate random observable tensors for users, items, sessions and price observables, the size of observables of each type (i.e., the last dimension in the shape) is arbitrarily chosen.\n",
    "\n",
    "**Notes on Encodings** Since we will be using PyTorch to train our model, we represent their identities with *consecutive* integer values instead of the raw human-readable names of items (e.g., Dell 24-inch LCD monitor). Similarly, you would need to encode user indices and session indices as well.\n",
    "Raw item names can be encoded easily with [sklearn.preprocessing.LabelEncoder](https://scikit-learn.org/stable/modules/generated/sklearn.preprocessing.LabelEncoder.html) (The [sklearn.preprocessing.OrdinalEncoder](https://scikit-learn.org/stable/modules/generated/sklearn.preprocessing.OrdinalEncoder.html) works as well)."
   ]
  },
  {
   "cell_type": "code",
   "execution_count": 7,
   "metadata": {},
   "outputs": [],
   "source": [
    "item_index = torch.LongTensor(np.random.choice(num_items, size=length_of_dataset))\n",
    "user_index = torch.LongTensor(np.random.choice(num_users, size=length_of_dataset))\n",
    "session_index = torch.LongTensor(np.random.choice(num_sessions, size=length_of_dataset))\n",
    "\n",
    "# assume all items are available in all sessions.\n",
    "item_availability = torch.ones(num_sessions, num_items).bool()"
   ]
  },
  {
   "cell_type": "markdown",
   "metadata": {},
   "source": [
    "### Step 2: Initialize the `ChoiceDataset`.\n",
    "You can construct a choice set using the following code, which manage all information for you."
   ]
  },
  {
   "cell_type": "code",
   "execution_count": 8,
   "metadata": {},
   "outputs": [],
   "source": [
    "dataset = ChoiceDataset(\n",
    "    # pre-specified keywords of __init__\n",
    "    item_index=item_index,  # required.\n",
    "    # optional:\n",
    "    user_index=user_index,\n",
    "    session_index=session_index,\n",
    "    item_availability=item_availability,\n",
    "    # additional keywords of __init__\n",
    "    user_obs=user_obs,\n",
    "    item_obs=item_obs,\n",
    "    session_obs=session_obs,\n",
    "    price_obs=price_obs)"
   ]
  },
  {
   "cell_type": "markdown",
   "metadata": {},
   "source": [
    "## What you can do with the `ChoiceDataset`?"
   ]
  },
  {
   "cell_type": "markdown",
   "metadata": {},
   "source": [
    "### `print(dataset)` and `dataset.__str__`\n",
    "The command `print(dataset)` will provide a quick overview of shapes of tensors included in the object as well as where the dataset is located (i.e., host memory or GPU memory)."
   ]
  },
  {
   "cell_type": "code",
   "execution_count": 9,
   "metadata": {},
   "outputs": [
    {
     "name": "stdout",
     "output_type": "stream",
     "text": [
      "ChoiceDataset(label=[], item_index=[10000], user_index=[10000], session_index=[10000], item_availability=[500, 4], user_obs=[10, 128], item_obs=[4, 64], session_obs=[500, 10], price_obs=[500, 4, 12], device=cpu)\n"
     ]
    }
   ],
   "source": [
    "print(dataset)"
   ]
  },
  {
   "cell_type": "markdown",
   "metadata": {},
   "source": [
    "### `dataset.summary()`\n",
    "The `summary` method provides preliminary summarization of the dataset."
   ]
  },
  {
   "cell_type": "code",
   "execution_count": 10,
   "metadata": {},
   "outputs": [
    {
     "name": "stdout",
     "output_type": "stream",
     "text": [
      "9    1027\n",
      "7    1024\n",
      "2    1007\n",
      "3    1007\n",
      "5    1005\n",
      "6    1001\n",
      "4     997\n",
      "8     995\n",
      "1     980\n",
      "0     957\n",
      "dtype: int64\n"
     ]
    }
   ],
   "source": [
    "print(pd.DataFrame(dataset.user_index).value_counts())"
   ]
  },
  {
   "cell_type": "code",
   "execution_count": 11,
   "metadata": {},
   "outputs": [
    {
     "name": "stdout",
     "output_type": "stream",
     "text": [
      "0    2520\n",
      "1    2519\n",
      "3    2498\n",
      "2    2463\n",
      "dtype: int64\n"
     ]
    }
   ],
   "source": [
    "print(pd.DataFrame(dataset.item_index).value_counts())"
   ]
  },
  {
   "cell_type": "code",
   "execution_count": 12,
   "metadata": {},
   "outputs": [
    {
     "name": "stdout",
     "output_type": "stream",
     "text": [
      "ChoiceDataset with 500 sessions, 4 items, 10 users, 10000 purchase records (observations) .\n",
      "The most frequent user is 9 with 1027 observations; the least frequent user is 0 with 957 observations; on average, there are 1000.00 observations per user.\n",
      "5 most frequent users are: 9(1027 times), 7(1024 times), 2(1007 times), 3(1007 times), 5(1005 times).\n",
      "5 least frequent users are: 0(957 times), 1(980 times), 8(995 times), 4(997 times), 6(1001 times).\n",
      "The most frequent item is 0, it was chosen 2520 times; the least frequent item is 2 it was 2463 times; on average, each item was purchased 2500.00 times.\n",
      "4 most frequent items are: 0(2520 times), 1(2519 times), 3(2498 times), 2(2463 times).\n",
      "4 least frequent items are: 2(2463 times), 3(2498 times), 1(2519 times), 0(2520 times).\n",
      "Attribute Summaries:\n",
      "Observable Tensor 'user_obs' with shape torch.Size([10, 128])\n",
      "             0          1          2          3          4          5    \\\n",
      "count  10.000000  10.000000  10.000000  10.000000  10.000000  10.000000   \n",
      "mean   -0.182389   0.125670  -0.398249  -0.228004  -0.327039  -0.047270   \n",
      "std     1.017882   0.540195   0.951404   0.935840   0.948605   0.687085   \n",
      "min    -1.497629  -0.581511  -2.049077  -1.925795  -1.678708  -0.814784   \n",
      "25%    -0.922504  -0.361365  -0.854126  -0.765552  -1.047967  -0.547349   \n",
      "50%    -0.331796   0.106568  -0.275867  -0.191549  -0.346258  -0.297769   \n",
      "75%     0.082824   0.541494   0.404522   0.226986   0.119069   0.420032   \n",
      "max     1.691229   0.989021   0.744578   1.394619   1.551993   1.094478   \n",
      "\n",
      "             6          7          8          9    ...        118        119  \\\n",
      "count  10.000000  10.000000  10.000000  10.000000  ...  10.000000  10.000000   \n",
      "mean   -0.363612   0.884098  -0.140655   0.062865  ...   0.459131  -0.032832   \n",
      "std     0.989594   0.915556   1.057053   0.929532  ...   1.238353   0.702459   \n",
      "min    -1.893809  -0.913260  -1.876614  -1.412197  ...  -1.938554  -0.953800   \n",
      "25%    -0.951001   0.397365  -0.842395  -0.660600  ...  -0.183452  -0.605640   \n",
      "50%    -0.696297   1.115968  -0.201999   0.314875  ...   0.434821  -0.231945   \n",
      "75%     0.332065   1.382609   0.434274   0.864094  ...   1.403216   0.614923   \n",
      "max     1.245498   2.371130   1.672156   0.994009  ...   2.186687   1.045347   \n",
      "\n",
      "             120        121        122        123        124        125  \\\n",
      "count  10.000000  10.000000  10.000000  10.000000  10.000000  10.000000   \n",
      "mean    0.310473   0.248204  -0.353132  -0.139800  -0.014558  -0.237147   \n",
      "std     1.112211   0.929356   0.705558   1.007446   1.145806   1.316595   \n",
      "min    -1.325801  -1.053945  -1.310526  -1.471136  -1.750035  -2.411444   \n",
      "25%    -0.322668  -0.352100  -0.884169  -0.838263  -0.712122  -1.014980   \n",
      "50%     0.588531   0.164561  -0.438319  -0.311155  -0.473432  -0.036482   \n",
      "75%     0.817597   0.633470   0.235562   0.373693   1.049393   0.618584   \n",
      "max     2.341332   2.200870   0.727740   1.868729   1.645773   1.641552   \n",
      "\n",
      "             126        127  \n",
      "count  10.000000  10.000000  \n",
      "mean   -0.424491   0.097439  \n",
      "std     1.227099   0.666485  \n",
      "min    -2.867921  -0.976800  \n",
      "25%    -1.206654  -0.052501  \n",
      "50%    -0.150404   0.143841  \n",
      "75%     0.272366   0.493760  \n",
      "max     1.379232   0.952329  \n",
      "\n",
      "[8 rows x 128 columns]\n",
      "Observable Tensor 'item_obs' with shape torch.Size([4, 64])\n",
      "             0         1         2         3         4         5         6   \\\n",
      "count  4.000000  4.000000  4.000000  4.000000  4.000000  4.000000  4.000000   \n",
      "mean   0.674035 -0.673560  0.100604  1.241721  0.261186 -0.120055 -0.175613   \n",
      "std    1.103287  0.714504  1.244071  1.496446  1.085469  0.644327  1.225101   \n",
      "min   -0.502110 -1.655862 -0.954500 -0.650751 -0.717238 -1.055984 -1.446507   \n",
      "25%    0.072725 -0.957732 -0.876514  0.597535 -0.620075 -0.240148 -0.849740   \n",
      "50%    0.541011 -0.501727 -0.150166  1.334515  0.140555  0.082015 -0.353718   \n",
      "75%    1.142321 -0.217555  0.826952  1.978701  1.021816  0.202108  0.320409   \n",
      "max    2.116228 -0.034922  1.657246  2.948603  1.480873  0.411732  1.451492   \n",
      "\n",
      "             7         8         9   ...        54        55        56  \\\n",
      "count  4.000000  4.000000  4.000000  ...  4.000000  4.000000  4.000000   \n",
      "mean  -0.703390  0.537543 -0.851154  ...  0.778171 -0.625951  0.197092   \n",
      "std    0.373494  0.800031  0.403875  ...  1.212374  0.176055  0.990258   \n",
      "min   -0.925361 -0.461875 -1.413731  ... -0.356499 -0.888382 -1.158575   \n",
      "25%   -0.921022  0.273179 -0.994343  ... -0.145868 -0.642752 -0.170605   \n",
      "50%   -0.870206  0.558398 -0.751171  ...  0.620350 -0.551202  0.398520   \n",
      "75%   -0.652574  0.822762 -0.607982  ...  1.544389 -0.534400  0.766217   \n",
      "max   -0.147790  1.495253 -0.488545  ...  2.228484 -0.513016  1.149901   \n",
      "\n",
      "             57        58        59        60        61        62        63  \n",
      "count  4.000000  4.000000  4.000000  4.000000  4.000000  4.000000  4.000000  \n",
      "mean  -0.476252 -0.287912 -0.071206 -0.286786 -0.303356  0.394846  0.151555  \n",
      "std    0.408311  1.291435  0.776023  0.731354  1.275743  0.349234  0.368248  \n",
      "min   -0.934140 -2.010162 -0.896761 -1.075870 -2.126007 -0.065586 -0.318862  \n",
      "25%   -0.741390 -0.901396 -0.583714 -0.814773 -0.617508  0.223658  0.001972  \n",
      "50%   -0.476370  0.006739 -0.123970 -0.262042  0.045373  0.466057  0.177803  \n",
      "75%   -0.211233  0.620223  0.388538  0.265945  0.359525  0.637245  0.327386  \n",
      "max   -0.018130  0.845035  0.859876  0.452812  0.821834  0.712858  0.569477  \n",
      "\n",
      "[8 rows x 64 columns]\n",
      "Observable Tensor 'session_obs' with shape torch.Size([500, 10])\n",
      "                0           1           2           3           4           5  \\\n",
      "count  500.000000  500.000000  500.000000  500.000000  500.000000  500.000000   \n",
      "mean     0.053351   -0.025988    0.031314   -0.079076    0.007104    0.002786   \n",
      "std      1.000763    0.949168    0.935986    0.952730    1.020511    0.999659   \n",
      "min     -3.014317   -3.212155   -2.820592   -2.930062   -2.807545   -3.022450   \n",
      "25%     -0.613537   -0.579668   -0.596307   -0.716682   -0.697590   -0.605732   \n",
      "50%      0.051995   -0.063193    0.042750   -0.027845    0.040140   -0.000117   \n",
      "75%      0.745932    0.611499    0.646282    0.554166    0.731705    0.698714   \n",
      "max      2.980332    2.541454    2.867844    3.671393    2.702977    3.197025   \n",
      "\n",
      "                6           7           8           9  \n",
      "count  500.000000  500.000000  500.000000  500.000000  \n",
      "mean     0.013479   -0.027095    0.010332   -0.024904  \n",
      "std      0.980045    0.995424    0.969730    0.991595  \n",
      "min     -3.348804   -2.926155   -2.887147   -2.897417  \n",
      "25%     -0.651144   -0.742718   -0.657772   -0.701876  \n",
      "50%      0.003641   -0.062908   -0.052223   -0.013091  \n",
      "75%      0.678632    0.712231    0.639717    0.691392  \n",
      "max      2.817995    2.535029    2.966449    2.690689  \n",
      "Observable Tensor 'price_obs' with shape torch.Size([500, 4, 12])\n",
      "device=cpu\n"
     ]
    }
   ],
   "source": [
    "dataset.summary()"
   ]
  },
  {
   "cell_type": "markdown",
   "metadata": {},
   "source": [
    "### `dataset.num_{users, items, sessions}`\n",
    "You can use the `num_{users, items, sessions}` attribute to obtain the number of users, items, and sessions, they are determined automatically from the `{user, item, session}_obs` tensors provided while initializing the dataset object.\n",
    "\n",
    "**Note**: the print `=:` operator requires Python3.8 or higher, you can remove `=:` if you are using an earlier copy of Python."
   ]
  },
  {
   "cell_type": "code",
   "execution_count": 13,
   "metadata": {},
   "outputs": [
    {
     "name": "stdout",
     "output_type": "stream",
     "text": [
      "dataset.num_users=10\n",
      "dataset.num_items=4\n",
      "dataset.num_sessions=500\n",
      "len(dataset)=10000\n"
     ]
    }
   ],
   "source": [
    "print(f'{dataset.num_users=:}')\n",
    "print(f'{dataset.num_items=:}')\n",
    "print(f'{dataset.num_sessions=:}')\n",
    "print(f'{len(dataset)=:}')"
   ]
  },
  {
   "cell_type": "markdown",
   "metadata": {},
   "source": [
    "### `dataset.clone()`\n",
    "The `ChoiceDataset` offers a `clone` method allow you to make copy of the dataset, you can modify the cloned dataset arbitrarily without changing the original dataset."
   ]
  },
  {
   "cell_type": "code",
   "execution_count": 14,
   "metadata": {},
   "outputs": [
    {
     "name": "stdout",
     "output_type": "stream",
     "text": [
      "tensor([1, 2, 2, 3, 1, 2, 2, 1, 0, 2])\n",
      "tensor([99., 99., 99., 99., 99., 99., 99., 99., 99., 99.])\n",
      "tensor([1, 2, 2, 3, 1, 2, 2, 1, 0, 2])\n"
     ]
    }
   ],
   "source": [
    "# clone\n",
    "print(dataset.item_index[:10])\n",
    "dataset_cloned = dataset.clone()\n",
    "dataset_cloned.item_index = 99 * torch.ones(num_sessions)\n",
    "print(dataset_cloned.item_index[:10])\n",
    "print(dataset.item_index[:10])  # does not change the original dataset."
   ]
  },
  {
   "cell_type": "markdown",
   "metadata": {},
   "source": [
    "### `dataset.to('cuda')` and `dataset._check_device_consistency()`.\n",
    "One key advantage of the `torch_choice` and `bemb` is their compatibility with GPUs, you can easily move tensors in a `ChoiceDataset` object between host memory (i.e., cpu memory) and device memory (i.e., GPU memory) using `dataset.to()` method.\n",
    "Please note that the following code runs only if your machine has a compatible GPU and GPU-compatible version of PyTorch installed."
   ]
  },
  {
   "cell_type": "markdown",
   "metadata": {},
   "source": [
    "Similarly, one can move data to host-memory using `dataset.to('cpu')`.\n",
    "The dataset also provides a `dataset._check_device_consistency()` method to check if all tensors are on the same device.\n",
    "If we only move the `label` to cpu without moving other tensors, this will result in an error message."
   ]
  },
  {
   "cell_type": "code",
   "execution_count": 16,
   "metadata": {},
   "outputs": [
    {
     "name": "stdout",
     "output_type": "stream",
     "text": [
      "dataset.device=mps:0\n",
      "dataset.device=mps:0\n",
      "dataset.user_index.device=mps:0\n",
      "dataset.session_index.device=mps:0\n",
      "dataset.device=mps:0\n",
      "dataset.item_index.device=mps:0\n",
      "dataset.user_index.device=mps:0\n",
      "dataset.session_index.device=mps:0\n"
     ]
    }
   ],
   "source": [
    "# move to device\n",
    "print(f'{dataset.device=:}')\n",
    "print(f'{dataset.device=:}')\n",
    "print(f'{dataset.user_index.device=:}')\n",
    "print(f'{dataset.session_index.device=:}')\n",
    "\n",
    "# dataset = dataset.to('cuda')\n",
    "dataset = dataset.to('mps')\n",
    "\n",
    "print(f'{dataset.device=:}')\n",
    "print(f'{dataset.item_index.device=:}')\n",
    "print(f'{dataset.user_index.device=:}')\n",
    "print(f'{dataset.session_index.device=:}')"
   ]
  },
  {
   "cell_type": "code",
   "execution_count": 17,
   "metadata": {},
   "outputs": [],
   "source": [
    "dataset._check_device_consistency()"
   ]
  },
  {
   "cell_type": "code",
   "execution_count": 18,
   "metadata": {},
   "outputs": [
    {
     "ename": "Exception",
     "evalue": "(\"Found tensors on different devices: {device(type='mps', index=0), device(type='cpu')}.\", 'Use dataset.to() method to align devices.')",
     "output_type": "error",
     "traceback": [
      "\u001b[0;31m---------------------------------------------------------------------------\u001b[0m",
      "\u001b[0;31mException\u001b[0m                                 Traceback (most recent call last)",
      "\u001b[0;32m/var/folders/0r/g0py_48j78ggpz2n7s0px_cr0000gn/T/ipykernel_6402/4116065733.py\u001b[0m in \u001b[0;36m<module>\u001b[0;34m\u001b[0m\n\u001b[1;32m      1\u001b[0m \u001b[0;31m# # NOTE: this cell will result errors, this is intentional.\u001b[0m\u001b[0;34m\u001b[0m\u001b[0;34m\u001b[0m\u001b[0m\n\u001b[1;32m      2\u001b[0m \u001b[0mdataset\u001b[0m\u001b[0;34m.\u001b[0m\u001b[0mitem_index\u001b[0m \u001b[0;34m=\u001b[0m \u001b[0mdataset\u001b[0m\u001b[0;34m.\u001b[0m\u001b[0mitem_index\u001b[0m\u001b[0;34m.\u001b[0m\u001b[0mto\u001b[0m\u001b[0;34m(\u001b[0m\u001b[0;34m'cpu'\u001b[0m\u001b[0;34m)\u001b[0m\u001b[0;34m\u001b[0m\u001b[0;34m\u001b[0m\u001b[0m\n\u001b[0;32m----> 3\u001b[0;31m \u001b[0mdataset\u001b[0m\u001b[0;34m.\u001b[0m\u001b[0m_check_device_consistency\u001b[0m\u001b[0;34m(\u001b[0m\u001b[0;34m)\u001b[0m\u001b[0;34m\u001b[0m\u001b[0;34m\u001b[0m\u001b[0m\n\u001b[0m",
      "\u001b[0;32m/opt/anaconda3/lib/python3.9/site-packages/torch_choice/data/choice_dataset.py\u001b[0m in \u001b[0;36m_check_device_consistency\u001b[0;34m(self)\u001b[0m\n\u001b[1;32m    334\u001b[0m                 \u001b[0mdevices\u001b[0m\u001b[0;34m.\u001b[0m\u001b[0mappend\u001b[0m\u001b[0;34m(\u001b[0m\u001b[0mval\u001b[0m\u001b[0;34m.\u001b[0m\u001b[0mdevice\u001b[0m\u001b[0;34m)\u001b[0m\u001b[0;34m\u001b[0m\u001b[0;34m\u001b[0m\u001b[0m\n\u001b[1;32m    335\u001b[0m         \u001b[0;32mif\u001b[0m \u001b[0mlen\u001b[0m\u001b[0;34m(\u001b[0m\u001b[0mset\u001b[0m\u001b[0;34m(\u001b[0m\u001b[0mdevices\u001b[0m\u001b[0;34m)\u001b[0m\u001b[0;34m)\u001b[0m \u001b[0;34m>\u001b[0m \u001b[0;36m1\u001b[0m\u001b[0;34m:\u001b[0m\u001b[0;34m\u001b[0m\u001b[0;34m\u001b[0m\u001b[0m\n\u001b[0;32m--> 336\u001b[0;31m             raise Exception(f'Found tensors on different devices: {set(devices)}.',\n\u001b[0m\u001b[1;32m    337\u001b[0m                             'Use dataset.to() method to align devices.')\n\u001b[1;32m    338\u001b[0m \u001b[0;34m\u001b[0m\u001b[0m\n",
      "\u001b[0;31mException\u001b[0m: (\"Found tensors on different devices: {device(type='mps', index=0), device(type='cpu')}.\", 'Use dataset.to() method to align devices.')"
     ]
    }
   ],
   "source": [
    "# # NOTE: this cell will result errors, this is intentional.\n",
    "dataset.item_index = dataset.item_index.to('cpu')\n",
    "dataset._check_device_consistency()"
   ]
  },
  {
   "cell_type": "code",
   "execution_count": 19,
   "metadata": {},
   "outputs": [
    {
     "name": "stdout",
     "output_type": "stream",
     "text": [
      "dict.user_obs.shape=torch.Size([10000, 4, 128])\n",
      "dict.item_obs.shape=torch.Size([10000, 4, 64])\n",
      "dict.session_obs.shape=torch.Size([10000, 4, 10])\n",
      "dict.price_obs.shape=torch.Size([10000, 4, 12])\n"
     ]
    }
   ],
   "source": [
    "# create dictionary inputs for model.forward()\n",
    "# collapse to a dictionary object.\n",
    "print_dict_shape(dataset.x_dict)"
   ]
  },
  {
   "cell_type": "markdown",
   "metadata": {},
   "source": [
    "### Subset method\n",
    "One can use `dataset[indices]` with `indices` as an integer-valued tensor or array to get the corresponding rows of the dataset.\n",
    "The example code block below queries the 6256-th, 4119-th, 453-th, 5520-th, and 1877-th row of the dataset object.\n",
    "The `item_index`, `user_index`, `session_index` of the resulted subset will be different from the original dataset, but other tensors will be the same."
   ]
  },
  {
   "cell_type": "code",
   "execution_count": 17,
   "metadata": {},
   "outputs": [
    {
     "name": "stdout",
     "output_type": "stream",
     "text": [
      "tensor([6790, 3567, 8804, 7207, 9253])\n",
      "ChoiceDataset(label=[], item_index=[10000], user_index=[10000], session_index=[10000], item_availability=[500, 4], user_obs=[10, 128], item_obs=[4, 64], session_obs=[500, 10], price_obs=[500, 4, 12], device=cpu)\n",
      "ChoiceDataset(label=[], item_index=[5], user_index=[5], session_index=[5], item_availability=[500, 4], user_obs=[10, 128], item_obs=[4, 64], session_obs=[500, 10], price_obs=[500, 4, 12], device=cpu)\n"
     ]
    }
   ],
   "source": [
    "# __getitem__ to get batch.\n",
    "# pick 5 random sessions as the mini-batch.\n",
    "dataset = dataset.to('cpu')\n",
    "indices = torch.Tensor(np.random.choice(len(dataset), size=5, replace=False)).long()\n",
    "print(indices)\n",
    "subset = dataset[indices]\n",
    "print(dataset)\n",
    "print(subset)\n",
    "# print_dict_shape(subset.x_dict)\n",
    "\n",
    "# assert torch.all(dataset.x_dict['price_obs'][indices, :, :] == subset.x_dict['price_obs'])\n",
    "# assert torch.all(dataset.item_index[indices] == subset.item_index)"
   ]
  },
  {
   "cell_type": "markdown",
   "metadata": {},
   "source": [
    "The subset method internally creates a copy of the datasets so that any modification applied on the subset will **not** be reflected on the original dataset.\n",
    "The researcher can feel free to do in-place modification to the subset."
   ]
  },
  {
   "cell_type": "code",
   "execution_count": 16,
   "metadata": {},
   "outputs": [
    {
     "name": "stdout",
     "output_type": "stream",
     "text": [
      "tensor([0, 1, 0, 0, 0])\n",
      "tensor([0, 1, 0, 0, 0])\n",
      "tensor([1, 2, 1, 1, 1])\n",
      "tensor([0, 1, 0, 0, 0])\n"
     ]
    }
   ],
   "source": [
    "print(subset.item_index)\n",
    "print(dataset.item_index[indices])\n",
    "\n",
    "subset.item_index += 1  # modifying the batch does not change the original dataset.\n",
    "\n",
    "print(subset.item_index)\n",
    "print(dataset.item_index[indices])"
   ]
  },
  {
   "cell_type": "code",
   "execution_count": 17,
   "metadata": {},
   "outputs": [
    {
     "name": "stdout",
     "output_type": "stream",
     "text": [
      "tensor(-1.5811)\n",
      "tensor(-1.5811)\n",
      "tensor(-0.5811)\n",
      "tensor(-1.5811)\n"
     ]
    }
   ],
   "source": [
    "print(subset.item_obs[0, 0])\n",
    "print(dataset.item_obs[0, 0])\n",
    "subset.item_obs += 1\n",
    "print(subset.item_obs[0, 0])\n",
    "print(dataset.item_obs[0, 0])"
   ]
  },
  {
   "cell_type": "code",
   "execution_count": 18,
   "metadata": {},
   "outputs": [
    {
     "name": "stdout",
     "output_type": "stream",
     "text": [
      "140339656298640\n",
      "140339656150528\n"
     ]
    }
   ],
   "source": [
    "print(id(subset.item_index))\n",
    "print(id(dataset.item_index[indices]))"
   ]
  },
  {
   "cell_type": "markdown",
   "metadata": {},
   "source": [
    "## Using Pytorch dataloader for the training loop.\n",
    "The `ChoiceDataset` object natively support batch samplers from PyTorch. For demonstration purpose, we turned off the shuffling option."
   ]
  },
  {
   "cell_type": "code",
   "execution_count": 38,
   "metadata": {},
   "outputs": [],
   "source": [
    "from torch.utils.data.sampler import BatchSampler, SequentialSampler, RandomSampler\n",
    "shuffle = False  # for demonstration purpose.\n",
    "batch_size = 32\n",
    "\n",
    "# Create sampler.\n",
    "sampler = BatchSampler(\n",
    "    RandomSampler(dataset) if shuffle else SequentialSampler(dataset),\n",
    "    batch_size=batch_size,\n",
    "    drop_last=False)\n",
    "\n",
    "dataloader = torch.utils.data.DataLoader(dataset,\n",
    "                                         sampler=sampler,\n",
    "                                         num_workers=1,\n",
    "                                         collate_fn=lambda x: x[0],\n",
    "                                         pin_memory=(dataset.device == 'cpu'))"
   ]
  },
  {
   "cell_type": "code",
   "execution_count": 40,
   "metadata": {},
   "outputs": [
    {
     "name": "stdout",
     "output_type": "stream",
     "text": [
      "item_obs.shape=torch.Size([4, 64])\n",
      "item_obs_all.shape=torch.Size([10000, 4, 64])\n"
     ]
    }
   ],
   "source": [
    "print(f'{item_obs.shape=:}')\n",
    "item_obs_all = item_obs.view(1, num_items, -1).expand(len(dataset), -1, -1)\n",
    "item_obs_all = item_obs_all.to(dataset.device)\n",
    "item_index_all = item_index.to(dataset.device)\n",
    "print(f'{item_obs_all.shape=:}')"
   ]
  },
  {
   "cell_type": "code",
   "execution_count": 43,
   "metadata": {},
   "outputs": [],
   "source": [
    "for i, batch in enumerate(dataloader):\n",
    "    first, last = i * batch_size, min(len(dataset), (i + 1) * batch_size)\n",
    "    idx = torch.arange(first, last)\n",
    "    assert torch.all(item_obs_all[idx, :, :] == batch.x_dict['item_obs'])\n",
    "    assert torch.all(item_index_all[idx] == batch.item_index)"
   ]
  },
  {
   "cell_type": "code",
   "execution_count": 44,
   "metadata": {},
   "outputs": [
    {
     "data": {
      "text/plain": [
       "torch.Size([16, 4, 64])"
      ]
     },
     "execution_count": 44,
     "metadata": {},
     "output_type": "execute_result"
    }
   ],
   "source": [
    "batch.x_dict['item_obs'].shape"
   ]
  },
  {
   "cell_type": "code",
   "execution_count": 45,
   "metadata": {},
   "outputs": [
    {
     "name": "stdout",
     "output_type": "stream",
     "text": [
      "dict.user_obs.shape=torch.Size([10000, 4, 128])\n",
      "dict.item_obs.shape=torch.Size([10000, 4, 64])\n",
      "dict.session_obs.shape=torch.Size([10000, 4, 10])\n",
      "dict.price_obs.shape=torch.Size([10000, 4, 12])\n"
     ]
    }
   ],
   "source": [
    "print_dict_shape(dataset.x_dict)"
   ]
  },
  {
   "cell_type": "code",
   "execution_count": 46,
   "metadata": {},
   "outputs": [
    {
     "data": {
      "text/plain": [
       "10000"
      ]
     },
     "execution_count": 46,
     "metadata": {},
     "output_type": "execute_result"
    }
   ],
   "source": [
    "dataset.__len__()"
   ]
  },
  {
   "cell_type": "markdown",
   "metadata": {},
   "source": [
    "## Chaining Multiple Datasets: `JointDataset` Examples"
   ]
  },
  {
   "cell_type": "code",
   "execution_count": 47,
   "metadata": {},
   "outputs": [],
   "source": [
    "dataset1 = dataset.clone()\n",
    "dataset2 = dataset.clone()\n",
    "joint_dataset = JointDataset(the_dataset=dataset1, another_dataset=dataset2)"
   ]
  },
  {
   "cell_type": "code",
   "execution_count": 48,
   "metadata": {},
   "outputs": [
    {
     "data": {
      "text/plain": [
       "JointDataset with 2 sub-datasets: (\n",
       "\tthe_dataset: ChoiceDataset(label=[], item_index=[10000], user_index=[10000], session_index=[10000], item_availability=[500, 4], user_obs=[10, 128], item_obs=[4, 64], session_obs=[500, 10], price_obs=[500, 4, 12], device=cpu)\n",
       "\tanother_dataset: ChoiceDataset(label=[], item_index=[10000], user_index=[10000], session_index=[10000], item_availability=[500, 4], user_obs=[10, 128], item_obs=[4, 64], session_obs=[500, 10], price_obs=[500, 4, 12], device=cpu)\n",
       ")"
      ]
     },
     "execution_count": 48,
     "metadata": {},
     "output_type": "execute_result"
    }
   ],
   "source": [
    "joint_dataset"
   ]
  }
 ],
 "metadata": {
  "interpreter": {
   "hash": "c7dc80b2c4d9dbaf52e273e24444ebf2c26f0fdc466c7e783c99ad3a1ce41bbd"
  },
  "kernelspec": {
   "display_name": "Python 3 (ipykernel)",
   "language": "python",
   "name": "python3"
  },
  "language_info": {
   "codemirror_mode": {
    "name": "ipython",
    "version": 3
   },
   "file_extension": ".py",
   "mimetype": "text/x-python",
   "name": "python",
   "nbconvert_exporter": "python",
   "pygments_lexer": "ipython3",
   "version": "3.9.13"
  },
  "toc": {
   "base_numbering": 1,
   "nav_menu": {},
   "number_sections": true,
   "sideBar": true,
   "skip_h1_title": false,
   "title_cell": "Table of Contents",
   "title_sidebar": "Contents",
   "toc_cell": false,
   "toc_position": {},
   "toc_section_display": true,
   "toc_window_display": true
  }
 },
 "nbformat": 4,
 "nbformat_minor": 2
}
